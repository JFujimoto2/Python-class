{
 "cells": [
  {
   "cell_type": "markdown",
   "metadata": {},
   "source": [
    "## Project 2\n",
    "\n",
    "### Jumpei Fujimoto\n",
    "\n",
    "** DSCI 11000 - Introduction to Data Science**\n",
    "\n",
    "** Due Friday, Nov. 9**"
   ]
  },
  {
   "cell_type": "markdown",
   "metadata": {},
   "source": [
    "In this project, you will create functions to implement a linear regression algorithm. We will discuss linear regression in class. You will apply these functions to generate predictions for two different datasets. Detailed instructions for this project can be found here: [Project 02 Instructions](https://lindenwood.instructure.com/courses/37728/files/folder/Projects/Project%2002?preview=13065514).\n",
    "\n",
    "We will begin by importing some packages. In the next cell, import the NumPy package under the alias `np` and import matplotlib.pyplot under the alias `plt`. \n",
    "\n",
    "**Note: We will only be using NumPy to generate some random data. You could code all of your functions to work with standard Python lists, not NumPy arrays.**"
   ]
  },
  {
   "cell_type": "code",
   "execution_count": 2,
   "metadata": {},
   "outputs": [],
   "source": [
    "import numpy as np\n",
    "import matplotlib.pyplot as plt"
   ]
  },
  {
   "cell_type": "markdown",
   "metadata": {},
   "source": [
    "## Part A: The `predict()` Function\n",
    "\n",
    "Use the cell below to define the `predict()` function. "
   ]
  },
  {
   "cell_type": "code",
   "execution_count": 3,
   "metadata": {},
   "outputs": [],
   "source": [
    "def predict(b, x0):\n",
    "    total = b[0] +b [1] * x0\n",
    "    return total"
   ]
  },
  {
   "cell_type": "markdown",
   "metadata": {},
   "source": [
    "** Test code for Part A**"
   ]
  },
  {
   "cell_type": "code",
   "execution_count": 4,
   "metadata": {},
   "outputs": [
    {
     "name": "stdout",
     "output_type": "stream",
     "text": [
      "19\n"
     ]
    }
   ],
   "source": [
    "print(predict([5,2], 7))"
   ]
  },
  {
   "cell_type": "markdown",
   "metadata": {},
   "source": [
    "## Part B: The `find_sse()` Function\n",
    "\n",
    "Use the cell below to define the `find_sse()` function."
   ]
  },
  {
   "cell_type": "code",
   "execution_count": 5,
   "metadata": {},
   "outputs": [],
   "source": [
    "def find_sse(x, y, b):    \n",
    "    temp = 0\n",
    "    for i in range(0, len(x)):\n",
    "        y_hat = predict(b, x[i])\n",
    "        e = y[i] - y_hat\n",
    "        temp = e**2 + temp\n",
    "    return temp"
   ]
  },
  {
   "cell_type": "markdown",
   "metadata": {},
   "source": [
    "** Test code for Part B**"
   ]
  },
  {
   "cell_type": "code",
   "execution_count": 6,
   "metadata": {},
   "outputs": [
    {
     "name": "stdout",
     "output_type": "stream",
     "text": [
      "14\n"
     ]
    }
   ],
   "source": [
    "x_test = [1, 2, 3, 4]\n",
    "y_test = [5, 8, 7, 10]\n",
    "b_test = [1, 2]\n",
    "\n",
    "print(find_sse(x_test, y_test, b_test))"
   ]
  },
  {
   "cell_type": "markdown",
   "metadata": {},
   "source": [
    "## Part C: The `regression()` Function\n",
    "\n",
    "Use the cell below to define the `regression()` function. "
   ]
  },
  {
   "cell_type": "code",
   "execution_count": 7,
   "metadata": {},
   "outputs": [],
   "source": [
    "def regression(x, y):\n",
    "    b = [0,0]\n",
    "    sse = find_sse(x, y, b)\n",
    "    count = 0\n",
    "    done = False\n",
    "    \n",
    "    while not done:\n",
    "        old_sse = sse\n",
    "        new_b1 = [b[0] + 0.001, b[1]]\n",
    "        new_b2 = [b[0] - 0.001, b[1]]\n",
    "        new_b3 = [b[0], b[1] + 0.001]\n",
    "        new_b4 = [b[0], b[1] - 0.001]\n",
    "        \n",
    "        new_sse1 = find_sse(x, y, new_b1)\n",
    "        new_sse2 = find_sse(x, y, new_b2)\n",
    "        new_sse3 = find_sse(x, y, new_b3)\n",
    "        new_sse4 = find_sse(x, y, new_b4)\n",
    "        \n",
    "        new_sse = [new_sse1, new_sse2, new_sse3, new_sse4]\n",
    "        new_b = [new_b1, new_b2, new_b3, new_b4]\n",
    "        \n",
    "        for i in range(0, len(new_sse)):\n",
    "            if new_sse[i] < old_sse:\n",
    "                old_sse = new_sse[i]\n",
    "                b = new_b[i]\n",
    "        count += 1\n",
    "        \n",
    "        if sse != old_sse:\n",
    "            sse = old_sse\n",
    "            \n",
    "        else:\n",
    "            break\n",
    "            \n",
    "        \n",
    "    return (b, sse, count)  "
   ]
  },
  {
   "cell_type": "code",
   "execution_count": null,
   "metadata": {},
   "outputs": [],
   "source": [
    "    sse = self.find_sse(x, y, b)       \n",
    "    self.x = x\n",
    "    self.y = y\n",
    "    self.b = b\n",
    "    self.sse = sse\n",
    "    self.count = count"
   ]
  },
  {
   "cell_type": "code",
   "execution_count": 12,
   "metadata": {},
   "outputs": [],
   "source": [
    "def regression(x, y):\n",
    "    \n",
    "    b = [0,0]\n",
    "    sse = find_sse(x, y, b)\n",
    "    count = 0\n",
    "    done = False\n",
    "    \n",
    "    while not done:\n",
    "        count += 1\n",
    "        old_sse = sse\n",
    "        \n",
    "        new_b1 = [b[0] + 0.001, b[1]]\n",
    "        new_b2 = [b[0] - 0.001, b[1]]\n",
    "        new_b3 = [b[0], b[1] + 0.001]\n",
    "        new_b4 = [b[0], b[1] - 0.001]\n",
    "        \n",
    "        new_sse1 = find_sse(x, y, new_b1)\n",
    "        new_sse2 = find_sse(x, y, new_b2)\n",
    "        new_sse3 = find_sse(x, y, new_b3)\n",
    "        new_sse4 = find_sse(x, y, new_b4)\n",
    "        \n",
    "        if new_sse1 < sse :\n",
    "            b = newb1\n",
    "            see = new_sse1\n",
    "            \n",
    "        if new_sse2 < sse :\n",
    "            b = newb2\n",
    "            see = new_sse1 \n",
    "        if new_sse3 < sse :\n",
    "            b = newb3\n",
    "            see = new_sse1\n",
    "        if new_sse4 < sse :\n",
    "            b = newb4\n",
    "            see = new_sse1\n",
    "        if sse == old_sse:\n",
    "            done = True\n",
    "            \n",
    "    return b, sse, count\n",
    "    "
   ]
  },
  {
   "cell_type": "markdown",
   "metadata": {},
   "source": [
    "** Test code for Part C**"
   ]
  },
  {
   "cell_type": "code",
   "execution_count": 13,
   "metadata": {},
   "outputs": [
    {
     "ename": "NameError",
     "evalue": "name 'newb1' is not defined",
     "output_type": "error",
     "traceback": [
      "\u001b[0;31m---------------------------------------------------------------------------\u001b[0m",
      "\u001b[0;31mNameError\u001b[0m                                 Traceback (most recent call last)",
      "\u001b[0;32m<ipython-input-13-e1b8211aa391>\u001b[0m in \u001b[0;36m<module>\u001b[0;34m()\u001b[0m\n\u001b[1;32m      2\u001b[0m \u001b[0my_test\u001b[0m \u001b[0;34m=\u001b[0m \u001b[0;34m[\u001b[0m\u001b[0;36m5\u001b[0m\u001b[0;34m,\u001b[0m \u001b[0;36m8\u001b[0m\u001b[0;34m,\u001b[0m \u001b[0;36m7\u001b[0m\u001b[0;34m,\u001b[0m \u001b[0;36m10\u001b[0m\u001b[0;34m]\u001b[0m\u001b[0;34m\u001b[0m\u001b[0m\n\u001b[1;32m      3\u001b[0m \u001b[0;34m\u001b[0m\u001b[0m\n\u001b[0;32m----> 4\u001b[0;31m \u001b[0mcoef\u001b[0m\u001b[0;34m,\u001b[0m \u001b[0msse\u001b[0m\u001b[0;34m,\u001b[0m \u001b[0miterations\u001b[0m \u001b[0;34m=\u001b[0m \u001b[0mregression\u001b[0m\u001b[0;34m(\u001b[0m\u001b[0mx_test\u001b[0m\u001b[0;34m,\u001b[0m \u001b[0my_test\u001b[0m\u001b[0;34m)\u001b[0m\u001b[0;34m\u001b[0m\u001b[0m\n\u001b[0m\u001b[1;32m      5\u001b[0m \u001b[0;34m\u001b[0m\u001b[0m\n\u001b[1;32m      6\u001b[0m \u001b[0mprint\u001b[0m\u001b[0;34m(\u001b[0m\u001b[0mcoef\u001b[0m\u001b[0;34m)\u001b[0m\u001b[0;34m\u001b[0m\u001b[0m\n",
      "\u001b[0;32m<ipython-input-12-2a67a0c923f4>\u001b[0m in \u001b[0;36mregression\u001b[0;34m(x, y)\u001b[0m\n\u001b[1;32m     21\u001b[0m \u001b[0;34m\u001b[0m\u001b[0m\n\u001b[1;32m     22\u001b[0m         \u001b[0;32mif\u001b[0m \u001b[0mnew_sse1\u001b[0m \u001b[0;34m<\u001b[0m \u001b[0msse\u001b[0m \u001b[0;34m:\u001b[0m\u001b[0;34m\u001b[0m\u001b[0m\n\u001b[0;32m---> 23\u001b[0;31m             \u001b[0mb\u001b[0m \u001b[0;34m=\u001b[0m \u001b[0mnewb1\u001b[0m\u001b[0;34m\u001b[0m\u001b[0m\n\u001b[0m\u001b[1;32m     24\u001b[0m             \u001b[0msee\u001b[0m \u001b[0;34m=\u001b[0m \u001b[0mnew_sse1\u001b[0m\u001b[0;34m\u001b[0m\u001b[0m\n\u001b[1;32m     25\u001b[0m \u001b[0;34m\u001b[0m\u001b[0m\n",
      "\u001b[0;31mNameError\u001b[0m: name 'newb1' is not defined"
     ]
    }
   ],
   "source": [
    "x_test = [1, 2, 3, 4]\n",
    "y_test = [5, 8, 7, 10]\n",
    "\n",
    "coef, sse, iterations = regression(x_test, y_test)\n",
    "\n",
    "print(coef)\n",
    "print(sse)\n",
    "print(iterations)"
   ]
  },
  {
   "cell_type": "markdown",
   "metadata": {},
   "source": [
    "## Part D: Working with Simulated Data\n",
    "\n",
    "The cell below creates two randomly generated lists: `x_data` and `y_data`. The cell also creates a scatter plot of the data. Run this cell as it.  "
   ]
  },
  {
   "cell_type": "code",
   "execution_count": 8,
   "metadata": {
    "scrolled": true
   },
   "outputs": [
    {
     "data": {
      "image/png": "[encoded data removed]",
      "text/plain": [
       "<Figure size 432x288 with 1 Axes>"
      ]
     },
     "metadata": {
      "needs_background": "light"
     },
     "output_type": "display_data"
    }
   ],
   "source": [
    "np.random.seed(1)\n",
    "x_data = np.random.normal(10, 2, 100)\n",
    "y_data = 4.3 + 1.7 * x_data + np.random.normal(0, 2, 100)\n",
    "plt.scatter(x_data, y_data, c='orange', edgecolor='black')\n",
    "plt.show()"
   ]
  },
  {
   "cell_type": "markdown",
   "metadata": {},
   "source": [
    "In the cell below, run the `regression()` function, passing it the lists `x_data` and `y_data` as arguments. Store the results. "
   ]
  },
  {
   "cell_type": "code",
   "execution_count": 9,
   "metadata": {
    "scrolled": true
   },
   "outputs": [],
   "source": [
    "coef, sse, iterations = regression(x_data, y_data)"
   ]
  },
  {
   "cell_type": "markdown",
   "metadata": {},
   "source": [
    "Print a summary of the regression model. Match the output described in the instructions. "
   ]
  },
  {
   "cell_type": "code",
   "execution_count": 10,
   "metadata": {},
   "outputs": [
    {
     "name": "stdout",
     "output_type": "stream",
     "text": [
      "Intercept of Model: 3.472\n",
      "Slope of Model:     1.812\n",
      "Optimal SSE:        344.678\n",
      "Iteration:          5947\n"
     ]
    }
   ],
   "source": [
    "print(\"Intercept of Model: \" + str((round(coef[0],3))))\n",
    "print(\"Slope of Model:     \" + str(round(coef[1],3)))\n",
    "print(\"Optimal SSE:        \" + str(round(sse,3)))\n",
    "print(\"Iteration:          \" + str(round(iterations,3)))"
   ]
  },
  {
   "cell_type": "code",
   "execution_count": 11,
   "metadata": {},
   "outputs": [
    {
     "name": "stdout",
     "output_type": "stream",
     "text": [
      "Intercept of Model: 3.472\n",
      "Slope of Model:     1.812\n",
      "Optimal SSE:        344.678\n",
      "Iteration:          5947\n"
     ]
    }
   ],
   "source": [
    "print(\"Intercept of Model: \" + str(3.472))\n",
    "print(\"Slope of Model:     \" + str(1.812))\n",
    "print(\"Optimal SSE:        \" + str(344.678))\n",
    "print(\"Iteration:          \" + str(5947))"
   ]
  },
  {
   "cell_type": "markdown",
   "metadata": {},
   "source": [
    "A list of `x` values is provided below. Use a loop and the `predict()` function to print the following sentence for each value in the list, with the blanks filled in as appropriate:\n",
    "\n",
    "    If x is equal to [__], the predicted value of y is [__]. "
   ]
  },
  {
   "cell_type": "code",
   "execution_count": 12,
   "metadata": {
    "scrolled": false
   },
   "outputs": [
    {
     "name": "stdout",
     "output_type": "stream",
     "text": [
      "If x is equal to 7.0 ,the predicted value of y is 16.156.\n",
      "If x is equal to 8.2 ,the predicted value of y is 18.33.\n",
      "If x is equal to 10.7 ,the predicted value of y is 22.86.\n",
      "If x is equal to 11.3 ,the predicted value of y is 23.948.\n",
      "If x is equal to 12.4 ,the predicted value of y is 25.941.\n"
     ]
    }
   ],
   "source": [
    "new_x_values = [7.0, 8.2, 10.7, 11.3, 12.4]\n",
    "for i in range(0, len(new_x_values)):\n",
    "    y = predict(coef, new_x_values[i])\n",
    "    \n",
    "    print(\"If x is equal to \" + str(new_x_values[i]) + \" ,\" + \"the predicted value of y is \" + str(round(y, 3)) + \".\")"
   ]
  },
  {
   "cell_type": "markdown",
   "metadata": {},
   "source": [
    "In the cell below, replace the blanks with the name of the list that stores the coeficients for your model. Then run the cell to display the regression line. "
   ]
  },
  {
   "cell_type": "code",
   "execution_count": 13,
   "metadata": {},
   "outputs": [
    {
     "data": {
      "image/png": "[encoded data removed]",
      "text/plain": [
       "<Figure size 432x288 with 1 Axes>"
      ]
     },
     "metadata": {
      "needs_background": "light"
     },
     "output_type": "display_data"
    }
   ],
   "source": [
    "plt.scatter(x_data, y_data, c='orange', edgecolor='black')\n",
    "plt.plot([5,15], [predict(coef,5), predict(coef,15)], linewidth=2)\n",
    "plt.show()"
   ]
  },
  {
   "cell_type": "markdown",
   "metadata": {},
   "source": [
    "## Part E: Predicing Car Prices\n",
    "\n",
    "The cell below creates two lists, `price` and `mileage`, which contain information about 20 cars. All of the cars are the same model, and are from the same year. The `price` list contains the price of a used car, measured in thousands of dollars. The `mileage` list contains the number of miles on the car, measured in thousands of miles. This cell also creates a scatter plot of price as a function of mileage. "
   ]
  },
  {
   "cell_type": "code",
   "execution_count": 14,
   "metadata": {},
   "outputs": [
    {
     "data": {
      "image/png": "[encoded data removed]",
      "text/plain": [
       "<Figure size 432x288 with 1 Axes>"
      ]
     },
     "metadata": {
      "needs_background": "light"
     },
     "output_type": "display_data"
    }
   ],
   "source": [
    "price = [53.7, 56.8, 58.5, 42.0, 48.9, 33.2, 22.2, 32.6, 30.3, 19.8, \n",
    "         26.1, 24.9, 18.1, 11.7, 13.3, 23.4, 13.2, 13.6, 14.8, 4.6]\n",
    "mileage = [3.1,  4.1,  5.3,  7.1, 19.5, 28.3, 36.8, 37.2, 42.3,  52.3, \n",
    "           53.3, 53.4, 63.2, 68.4, 82.3, 83.9, 88.4, 97.6, 99.7, 105.9]\n",
    "\n",
    "plt.scatter(mileage, price, c='orange', edgecolor='black')\n",
    "plt.xlabel('Mileage (in 1000s of Miles)')\n",
    "plt.ylabel('Price (in 1000s of Dollars)')\n",
    "plt.show()"
   ]
  },
  {
   "cell_type": "markdown",
   "metadata": {},
   "source": [
    "Use the `regression()` function to create a regression model that could be used to predict the price of a car given its mileage. "
   ]
  },
  {
   "cell_type": "code",
   "execution_count": 15,
   "metadata": {},
   "outputs": [],
   "source": [
    "coef, sse, iterations = regression(mileage, price)"
   ]
  },
  {
   "cell_type": "markdown",
   "metadata": {},
   "source": [
    "Print a summary of the regression model. Match the output described in the instructions. "
   ]
  },
  {
   "cell_type": "code",
   "execution_count": 16,
   "metadata": {},
   "outputs": [
    {
     "name": "stdout",
     "output_type": "stream",
     "text": [
      "Intercept of Model: 50.482\n",
      "Slope of Model:     -0.434\n",
      "Optimal SSE:        808.592\n",
      "Iteration:          51425\n"
     ]
    }
   ],
   "source": [
    "print(\"Intercept of Model: \" + str((round(coef[0],3))))\n",
    "print(\"Slope of Model:     \" + str(round(coef[1],3)))\n",
    "print(\"Optimal SSE:        \" + str(round(sse,3)))\n",
    "print(\"Iteration:          \" + str(round(iterations,3)))"
   ]
  },
  {
   "cell_type": "markdown",
   "metadata": {},
   "source": [
    "Predict the price of cars with the following mileages: 20500, 37100, and 62900. For each mileage, print the following statement: \n",
    "\n",
    "    The predicted price of a car with [__] miles is $[__].\n",
    "    \n",
    "You do not have to use a loop for this if you would prefer not to."
   ]
  },
  {
   "cell_type": "code",
   "execution_count": 17,
   "metadata": {
    "scrolled": true
   },
   "outputs": [
    {
     "name": "stdout",
     "output_type": "stream",
     "text": [
      "The predicted price of a car with 20500 miles miles is $41585.\n",
      "The predicted price of a car with 37100 miles miles is $34381.\n",
      "The predicted price of a car with 62900 miles miles is $23183.\n"
     ]
    }
   ],
   "source": [
    "newmile = [20500, 37100, 62900]\n",
    "print(\"The predicted price of a car with \" + str(newmile[0]) + \" miles miles is $\" + str(round(predict(coef, 20.5)* 1000))+ \".\")\n",
    "print(\"The predicted price of a car with \" + str(newmile[1]) + \" miles miles is $\" + str(round(predict(coef, 37.1)* 1000))+ \".\")\n",
    "print(\"The predicted price of a car with \" + str(newmile[2]) + \" miles miles is $\" + str(round(predict(coef, 62.9)* 1000))+ \".\")"
   ]
  },
  {
   "cell_type": "markdown",
   "metadata": {},
   "source": [
    "In the cell below, replace the blanks with the name of the list that stores the coeficients for your model. Then run the cell to display the regression line. "
   ]
  },
  {
   "cell_type": "code",
   "execution_count": 18,
   "metadata": {},
   "outputs": [
    {
     "data": {
      "image/png": "[encoded data removed]",
      "text/plain": [
       "<Figure size 432x288 with 1 Axes>"
      ]
     },
     "metadata": {
      "needs_background": "light"
     },
     "output_type": "display_data"
    }
   ],
   "source": [
    "plt.scatter(mileage, price, c='orange', edgecolor='black')\n",
    "plt.plot([0,120], [predict(coef,0), predict(coef,120)], linewidth=2)\n",
    "plt.show()"
   ]
  },
  {
   "cell_type": "code",
   "execution_count": null,
   "metadata": {},
   "outputs": [],
   "source": [
    "# calculate r^2\n"
   ]
  },
  {
   "cell_type": "code",
   "execution_count": null,
   "metadata": {},
   "outputs": [],
   "source": []
  }
 ],
 "metadata": {
  "kernelspec": {
   "display_name": "Python 3",
   "language": "python",
   "name": "python3"
  },
  "language_info": {
   "codemirror_mode": {
    "name": "ipython",
    "version": 3
   },
   "file_extension": ".py",
   "mimetype": "text/x-python",
   "name": "python",
   "nbconvert_exporter": "python",
   "pygments_lexer": "ipython3",
   "version": "3.7.2"
  }
 },
 "nbformat": 4,
 "nbformat_minor": 2
}
